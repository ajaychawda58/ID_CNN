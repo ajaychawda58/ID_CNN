{
 "cells": [
  {
   "cell_type": "code",
   "execution_count": 1,
   "metadata": {},
   "outputs": [
    {
     "ename": "ModuleNotFoundError",
     "evalue": "No module named 'pycocotools'",
     "output_type": "error",
     "traceback": [
      "\u001b[1;31m---------------------------------------------------------------------------\u001b[0m",
      "\u001b[1;31mModuleNotFoundError\u001b[0m                       Traceback (most recent call last)",
      "\u001b[1;32m<ipython-input-1-a6066382e8f3>\u001b[0m in \u001b[0;36m<module>\u001b[1;34m\u001b[0m\n\u001b[0;32m     16\u001b[0m \u001b[1;32mfrom\u001b[0m \u001b[0mPIL\u001b[0m \u001b[1;32mimport\u001b[0m \u001b[0mImage\u001b[0m\u001b[1;33m\u001b[0m\u001b[1;33m\u001b[0m\u001b[0m\n\u001b[0;32m     17\u001b[0m \u001b[1;32mfrom\u001b[0m \u001b[0mtransforms\u001b[0m \u001b[1;32mimport\u001b[0m \u001b[0mResize\u001b[0m\u001b[1;33m,\u001b[0m \u001b[0mToTensor\u001b[0m\u001b[1;33m,\u001b[0m \u001b[0mCompose\u001b[0m\u001b[1;33m\u001b[0m\u001b[1;33m\u001b[0m\u001b[0m\n\u001b[1;32m---> 18\u001b[1;33m \u001b[1;32mfrom\u001b[0m \u001b[0mdata\u001b[0m\u001b[1;33m.\u001b[0m\u001b[0mcoco\u001b[0m \u001b[1;32mimport\u001b[0m \u001b[0mCoco\u001b[0m\u001b[1;33m\u001b[0m\u001b[1;33m\u001b[0m\u001b[0m\n\u001b[0m\u001b[0;32m     19\u001b[0m \u001b[1;32mfrom\u001b[0m \u001b[0mdata\u001b[0m\u001b[1;33m.\u001b[0m\u001b[0mkitti_dataset\u001b[0m \u001b[1;32mimport\u001b[0m \u001b[0mKITTI\u001b[0m\u001b[1;33m\u001b[0m\u001b[1;33m\u001b[0m\u001b[0m\n\u001b[0;32m     20\u001b[0m \u001b[1;32mfrom\u001b[0m \u001b[0mdata\u001b[0m\u001b[1;33m.\u001b[0m\u001b[0mvoc\u001b[0m \u001b[1;32mimport\u001b[0m \u001b[0mVOC\u001b[0m\u001b[1;33m\u001b[0m\u001b[1;33m\u001b[0m\u001b[0m\n",
      "\u001b[1;32m~\\Desktop\\Guided Research\\ID\\data\\coco.py\u001b[0m in \u001b[0;36m<module>\u001b[1;34m\u001b[0m\n\u001b[0;32m      7\u001b[0m \u001b[1;32mimport\u001b[0m \u001b[0mtorch\u001b[0m\u001b[1;33m\u001b[0m\u001b[1;33m\u001b[0m\u001b[0m\n\u001b[0;32m      8\u001b[0m \u001b[1;32mimport\u001b[0m \u001b[0mtorchvision\u001b[0m\u001b[1;33m\u001b[0m\u001b[1;33m\u001b[0m\u001b[0m\n\u001b[1;32m----> 9\u001b[1;33m \u001b[1;32mfrom\u001b[0m \u001b[0mpycocotools\u001b[0m\u001b[1;33m.\u001b[0m\u001b[0mcoco\u001b[0m \u001b[1;32mimport\u001b[0m \u001b[0mCOCO\u001b[0m\u001b[1;33m\u001b[0m\u001b[1;33m\u001b[0m\u001b[0m\n\u001b[0m\u001b[0;32m     10\u001b[0m \u001b[1;33m\u001b[0m\u001b[0m\n\u001b[0;32m     11\u001b[0m \u001b[1;33m\u001b[0m\u001b[0m\n",
      "\u001b[1;31mModuleNotFoundError\u001b[0m: No module named 'pycocotools'"
     ]
    }
   ],
   "source": [
    "import os\n",
    "import gc\n",
    "import sys\n",
    "import argparse\n",
    "import time\n",
    "import numpy as np\n",
    "import matplotlib.pyplot as plt\n",
    "\n",
    "import torch\n",
    "import torchvision\n",
    "import torch.nn as nn\n",
    "import torchvision.transforms.functional as TF\n",
    "from torch.utils.data import DataLoader\n",
    "from torchvision import utils\n",
    "from torchvision.models.detection.rpn import AnchorGenerator\n",
    "from PIL import Image\n",
    "from transforms import Resize, ToTensor, Compose\n",
    "from data.coco import Coco\n",
    "from data.kitti_dataset import KITTI\n",
    "from data.voc import VOC\n",
    "from backbone.backbone_vgg import vgg16, vgg11, vgg13, vgg19\n",
    "from backbone.backbone_resnet import resnet18\n",
    "from models.faster_rcnn_mod import FasterRCNN\n",
    "from models.mask_rcnn_mod import MaskRCNN\n",
    "from models.keypoint_rcnn_mod import KeypointRCNN\n",
    "from models.retinanet_mod import RetinaNet\n",
    "from engine import train_one_epoch, evaluate\n",
    "from matplotlib.patches import Rectangle"
   ]
  },
  {
   "cell_type": "code",
   "execution_count": null,
   "metadata": {},
   "outputs": [],
   "source": [
    "transform = []\n",
    "transform.append(Resize((300, 1200)))\n",
    "transform.append(ToTensor())\n",
    "transform = Compose(transform)"
   ]
  },
  {
   "cell_type": "code",
   "execution_count": null,
   "metadata": {},
   "outputs": [],
   "source": [
    "def collate_fn(batch):\n",
    "    return tuple(zip(*batch))\n",
    "\n",
    "def draw_box(box, label, score=''):\n",
    "    x1, y1, x2, y2 = box\n",
    "    color = plt.cm.get_cmap('tab10')(label)\n",
    "    rect = Rectangle((x1,y1),x2-x1,y2-y1,linewidth=2,\n",
    "                     edgecolor='k',\n",
    "                     facecolor=color,alpha=0.5)\n",
    "    plt.gca().add_patch(rect)\n",
    "    \n",
    "\n",
    "def plot_img(image, target=None, thld=0.5):\n",
    "    image = image.permute(1,2,0).numpy()\n",
    "    plt.imshow(image)\n",
    "    if target:\n",
    "        for i in range(len(target['labels'])):\n",
    "            scores = target.get('scores')\n",
    "            if scores is not None:\n",
    "                if scores[i]<thld:\n",
    "                    continue\n",
    "                draw_box(target['boxes'][i], int(target['labels'][i]), str(float(scores[i]))[:4])\n",
    "            else:\n",
    "                draw_box(target['boxes'][i], int(target['labels'][i]))"
   ]
  },
  {
   "cell_type": "code",
   "execution_count": null,
   "metadata": {},
   "outputs": [],
   "source": [
    "KITTI_CLASSES = ['BG', 'Car', 'Van', 'Truck', 'Pedestrian',\n",
    "                'Person_sitting', 'Cyclist', 'Tram', 'Misc', 'DontCare']\n",
    "\n",
    "\n",
    "class KITTI(object):\n",
    "    def __init__(self, path, transforms=None):\n",
    "        self.path = path\n",
    "        self.transforms = transforms\n",
    "        self.imgs = list(sorted(os.listdir(os.path.join(path, \"training/image_2\"))))\n",
    "        self.labels = list(sorted(os.listdir(os.path.join(path, \"training/label_2\"))))\n",
    "\n",
    "    def __getitem__(self, idx):\n",
    "        img_path = os.path.join(self.path, \"training/image_2\", self.imgs[idx])\n",
    "        label_path = os.path.join(self.path, \"training/label_2\", self.labels[idx])\n",
    "        image = Image.open(img_path).convert(\"RGB\")\n",
    "        \n",
    "        boxes, label = [], []\n",
    "        objs = 0\n",
    "        for i in open(label_path).readlines():\n",
    "            i = i.split()\n",
    "            label.append(KITTI_CLASSES.index(i[0]))\n",
    "            boxes.append(list(map(float, i[4:8])))\n",
    "            objs += 1\n",
    "        boxes = torch.as_tensor(boxes, dtype=torch.float32)\n",
    "        label = torch.as_tensor(label, dtype=torch.int64)\n",
    "        img_id = torch.tensor([idx])\n",
    "        area = (boxes[:, 3] - boxes[:, 1]) * (boxes[:,2] - boxes[:, 0])\n",
    "        iscrowd = torch.zeros((objs, ), dtype=torch.int64)\n",
    "        \n",
    "                  \n",
    "        target = {}\n",
    "        target[\"boxes\"] = boxes\n",
    "        target[\"labels\"] = label\n",
    "        target[\"image_id\"] = img_id\n",
    "        target[\"area\"] = area\n",
    "        target[\"iscrowd\"] = iscrowd\n",
    "        \n",
    "        if self.transforms is not None:\n",
    "            image, target = self.transforms(image, target)\n",
    "        \n",
    "        return image, target\n",
    "\n",
    "    def __len__(self):\n",
    "        return len(self.imgs)\n",
    "\n",
    "    \n"
   ]
  },
  {
   "cell_type": "code",
   "execution_count": null,
   "metadata": {},
   "outputs": [],
   "source": [
    "root = 'D:/Dataset/KITTI'\n",
    "data = KITTI(root, transform)\n",
    "num_classes = 10\n",
    "indices = torch.randperm(len(data)).tolist()\n",
    "dataset = torch.utils.data.Subset(data, indices[:7000])\n",
    "testdata = torch.utils.data.Subset(data, indices[7000:])\n",
    "traindata = DataLoader(dataset, batch_size=1, shuffle=False, collate_fn=collate_fn)\n",
    "data_loader_test = DataLoader(testdata, batch_size=1, shuffle=True, collate_fn=collate_fn)"
   ]
  },
  {
   "cell_type": "code",
   "execution_count": null,
   "metadata": {},
   "outputs": [],
   "source": [
    "root = '/home/ajay/Desktop/ID_CNN/Dataset/COCO/train2017/'\n",
    "annotations = '/home/ajay/Desktop/ID_CNN/Dataset/COCO/annotations/instances_train2017.json'\n",
    "data = Coco(root = root, annotations=annotations, transforms=transform)\n",
    "indices = torch.randperm(len(data)).tolist()\n",
    "dataset = torch.utils.data.Subset(data, indices[:110000])\n",
    "testdata = torch.utils.data.Subset(data, indices[110000:])\n",
    "traindata = DataLoader(dataset, batch_size=4, shuffle=True, collate_fn=collate_fn)\n",
    "data_loader_test = DataLoader(testdata, batch_size=2, shuffle=True, collate_fn=collate_fn)    "
   ]
  },
  {
   "cell_type": "code",
   "execution_count": null,
   "metadata": {},
   "outputs": [],
   "source": [
    "root = '/home/ajay/Desktop/ID_CNN/Dataset/VOCdevkit/VOC2012'\n",
    "data = VOC(root, transform)\n",
    "num_classes = 20\n",
    "indices = torch.randperm(len(data)).tolist()\n",
    "dataset = torch.utils.data.Subset(data, indices[:16000])\n",
    "testdata = torch.utils.data.Subset(data, indices[16000:])\n",
    "traindata = DataLoader(dataset, batch_size=4, shuffle=True, collate_fn=collate_fn)\n",
    "data_loader_test = DataLoader(testdata, batch_size=2, shuffle=True, collate_fn=collate_fn)"
   ]
  },
  {
   "cell_type": "code",
   "execution_count": null,
   "metadata": {
    "scrolled": false
   },
   "outputs": [],
   "source": [
    "img, trgt = dataset[100]\n",
    "print(trgt)\n",
    "plt.figure(figsize=(20,20))\n",
    "plot_img(img, trgt)"
   ]
  },
  {
   "cell_type": "code",
   "execution_count": null,
   "metadata": {},
   "outputs": [],
   "source": [
    "bbox = [2, 4, 6, 8]"
   ]
  },
  {
   "cell_type": "code",
   "execution_count": null,
   "metadata": {},
   "outputs": [],
   "source": []
  },
  {
   "cell_type": "code",
   "execution_count": null,
   "metadata": {},
   "outputs": [],
   "source": []
  }
 ],
 "metadata": {
  "kernelspec": {
   "display_name": "Python 3",
   "language": "python",
   "name": "python3"
  },
  "language_info": {
   "codemirror_mode": {
    "name": "ipython",
    "version": 3
   },
   "file_extension": ".py",
   "mimetype": "text/x-python",
   "name": "python",
   "nbconvert_exporter": "python",
   "pygments_lexer": "ipython3",
   "version": "3.8.5"
  }
 },
 "nbformat": 4,
 "nbformat_minor": 4
}
